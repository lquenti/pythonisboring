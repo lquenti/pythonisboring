{
 "cells": [
  {
   "cell_type": "markdown",
   "id": "bddfd6e2",
   "metadata": {},
   "source": [
    "# Einführung in Python, coole Features"
   ]
  },
  {
   "cell_type": "code",
   "execution_count": 1,
   "id": "715efa0b",
   "metadata": {},
   "outputs": [],
   "source": [
    "# help, print\n"
   ]
  },
  {
   "cell_type": "code",
   "execution_count": 7,
   "id": "befd6bc4",
   "metadata": {},
   "outputs": [
    {
     "data": {
      "text/plain": [
       "17"
      ]
     },
     "execution_count": 7,
     "metadata": {},
     "output_type": "execute_result"
    }
   ],
   "source": [
    "# imports\n",
    "import math\n",
    "from math import ceil\n",
    "math.sqrt(16)\n",
    "ceil(16.5)"
   ]
  },
  {
   "cell_type": "code",
   "execution_count": 23,
   "id": "0a80df94",
   "metadata": {},
   "outputs": [
    {
     "name": "stdout",
     "output_type": "stream",
     "text": [
      "[1, 3, 5, 7, 9]\n",
      "8\n",
      "72\n"
     ]
    }
   ],
   "source": [
    "# variablen\n",
    "bla = 4\n",
    "# tuple\n",
    "xs = 2,4\n",
    "#print(xs[0])\n",
    "# listen, slicing, args\n",
    "xs = [1,2,3,4,5,6,7,8,9,10]\n",
    "# [startwert:der_nach_endwert:steps]\n",
    "print(xs[0:9:2])\n",
    "# dicts, kwargs\n",
    "# - Keine Ordnung\n",
    "\n",
    "d = {\n",
    "    4: 8,\n",
    "    5: \"9\",\n",
    "    \"key\": [2,3,4,\"lol\"]\n",
    "}\n",
    "print(d[4])\n",
    "print(int(\"9\")*8)\n"
   ]
  },
  {
   "cell_type": "code",
   "execution_count": 19,
   "id": "57f4245a",
   "metadata": {},
   "outputs": [
    {
     "data": {
      "text/plain": [
       "'2+2= 4.0'"
      ]
     },
     "execution_count": 19,
     "metadata": {},
     "output_type": "execute_result"
    }
   ],
   "source": [
    "# Strings, Interpolation\n",
    "f\"2+2= {math.pow(2,2)}\""
   ]
  },
  {
   "cell_type": "code",
   "execution_count": 20,
   "id": "fa45cdc5",
   "metadata": {},
   "outputs": [
    {
     "name": "stdout",
     "output_type": "stream",
     "text": [
      "kein zyklischer ring\n"
     ]
    }
   ],
   "source": [
    "# If Else\n",
    "# Kein Switch\n",
    "if 2+2 == 4:\n",
    "    print(\"kein zyklischer ring\")\n",
    "\n",
    "else:\n",
    "    print(\"???\")"
   ]
  },
  {
   "cell_type": "code",
   "execution_count": 28,
   "id": "e801f8a3",
   "metadata": {},
   "outputs": [
    {
     "name": "stdout",
     "output_type": "stream",
     "text": [
      "0\n",
      "1\n",
      "2\n",
      "3\n",
      "4\n",
      "5\n",
      "6\n",
      "7\n",
      "8\n",
      "9\n"
     ]
    }
   ],
   "source": [
    "# Schleifen, range\n",
    "# - Keine C-Style, for-each\n",
    "# while, break, continue\n",
    "i=0\n",
    "while i<10:\n",
    "    #print(i)\n",
    "    #break\n",
    "    #continue\n",
    "    i+=1\n",
    "    \n",
    "# for (int i=0; i<10; i++)\n",
    "for element in range(10):\n",
    "    print(element)"
   ]
  },
  {
   "cell_type": "code",
   "execution_count": 32,
   "id": "fa91e21e",
   "metadata": {},
   "outputs": [
    {
     "data": {
      "text/plain": [
       "6"
      ]
     },
     "execution_count": 32,
     "metadata": {},
     "output_type": "execute_result"
    }
   ],
   "source": [
    "# Funktionen\n",
    "# - optionale Argumente\n",
    "# - *args, **kwargs\n",
    "\n",
    "def plus(a, b):\n",
    "    return a+b;\n",
    "\n",
    "def plus2(a, b=4, c=8, d=6, e=9):\n",
    "    return a+b\n",
    "plus2(2,c=25)\n"
   ]
  },
  {
   "cell_type": "code",
   "execution_count": 36,
   "id": "1152d910",
   "metadata": {},
   "outputs": [
    {
     "data": {
      "text/plain": [
       "{1: 1, 2: 4, 3: 9, 4: 16}"
      ]
     },
     "execution_count": 36,
     "metadata": {},
     "output_type": "execute_result"
    }
   ],
   "source": [
    "# List expressions\n",
    "l = [1,2,3,4]\n",
    "\n",
    "res = []\n",
    "for wert in l:\n",
    "    if wert % 2 == 0:\n",
    "        res.append(wert*wert)\n",
    "    \n",
    "[wert*wert for wert in [1,2,3,4] if wert % 2 == 0]\n",
    "#[output for x in liste if bedingung]\n",
    "# dict expressions\n",
    "{wert: wert*wert for wert in [1,2,3,4]}"
   ]
  },
  {
   "cell_type": "code",
   "execution_count": 42,
   "id": "a70e930f",
   "metadata": {},
   "outputs": [
    {
     "data": {
      "text/plain": [
       "[0, 1, 2, 3, 4, 5, 6, 7, 8, 9]"
      ]
     },
     "execution_count": 42,
     "metadata": {},
     "output_type": "execute_result"
    }
   ],
   "source": [
    "# itertools, zip\n",
    "# https://docs.python.org/3/library/itertools.html\n",
    "# islice(iterable, start, stop[, step])\n",
    "# cycle(xs: Iterable[Any]) -> Iterable[Any]\n",
    "# takewhile(f: Callable, xs: Iterable) -> Iterable\n",
    "# product(*args) (cartesian product)\n",
    "\n",
    "from itertools import cycle, islice, takewhile, product\n",
    "\n",
    "list(product([1,2,3,4], \"ABCD\"))\n",
    "xs = list(range(100))\n",
    "def bedingung(x):\n",
    "    return x < 10\n",
    "\n",
    "list(takewhile(bedingung, xs))"
   ]
  },
  {
   "cell_type": "code",
   "execution_count": 47,
   "id": "b6fe8f1d",
   "metadata": {},
   "outputs": [
    {
     "data": {
      "text/plain": [
       "120"
      ]
     },
     "execution_count": 47,
     "metadata": {},
     "output_type": "execute_result"
    }
   ],
   "source": [
    "# functools, FP\n",
    "# - higher order functions\n",
    "# - decorators (functools.wraps)\n",
    "# - generator expressions\n",
    "# \n",
    "# reduce(f, xs, init)\n",
    "# partial(func, *args)\n",
    "\n",
    "from functools import reduce, partial\n",
    "\n",
    "def add(a,b):\n",
    "    return a+b\n",
    "\n",
    "addiere_immer_4 = partial(add, 4)\n",
    "\n",
    "addiere_immer_4(4)\n",
    "addiere_immer_4(25)\n",
    "\n",
    "def mul(a,b):\n",
    "    return a*b\n",
    "\n",
    "\n",
    "\n",
    "xs = [1,2,3,4,5]\n",
    "init = 1\n",
    "\n",
    "reduce(mul, xs, 1)"
   ]
  },
  {
   "cell_type": "code",
   "execution_count": 50,
   "id": "446e06ea",
   "metadata": {},
   "outputs": [
    {
     "data": {
      "text/plain": [
       "True"
      ]
     },
     "execution_count": 50,
     "metadata": {},
     "output_type": "execute_result"
    }
   ],
   "source": [
    "# OOP\n",
    "# (TODO: Port von Java)\n",
    "# - self explizit\n",
    "# - Keine {privaten variablen, interfaces}\n",
    "# - staticmethod, classmethod\n",
    "# - magic methods, libs sind first class\n",
    "#   - Addition, radd(self, other)\n",
    "#   - in-operator: __contains__(self, item)\n",
    "#   - Eigener Listenzugriff: __getitem__(self, index)\n",
    "#   - Funktionen mit State: __call__(self, x)\n",
    "#   - property, functools.cachedproperty\n",
    "# - method chaining\n",
    "\n",
    "\"\"\"\n",
    "public class A {\n",
    "  private int x;\n",
    "  public A(int x) {\n",
    "  this.x=x;\n",
    "  }\n",
    "}\n",
    "\"\"\"\n",
    "\n",
    "# __irgendwas__\n",
    "\n",
    "class A:\n",
    "    # Konstruktor\n",
    "    def __init__(self, x):\n",
    "        self.x = x\n",
    "    \n",
    "    @staticmethod\n",
    "    def f(x):\n",
    "        print(x)\n",
    "    \n",
    "    @classmethod\n",
    "    def initialisiere_mit_4(cls, x=4):\n",
    "        return cls(x)\n",
    "    \n",
    "    def __add__(self, other):\n",
    "        return self.x + other.x\n",
    "    \n",
    "    def __radd__(self, other):\n",
    "        return self + other\n",
    "    \n",
    "    def __contains__(self, x):\n",
    "        return self.x == x\n",
    "    \n",
    "    \n",
    "# nparrray + euer_obj\n",
    "A(4) + A(5)\n",
    "\n",
    "4 in [2,3,4]"
   ]
  },
  {
   "cell_type": "code",
   "execution_count": 12,
   "id": "78aa653e",
   "metadata": {},
   "outputs": [],
   "source": [
    "# Typen"
   ]
  },
  {
   "cell_type": "code",
   "execution_count": 13,
   "id": "decd8a70",
   "metadata": {},
   "outputs": [],
   "source": [
    "# Extra: Wie Python für schnelle Iterationen sorgt"
   ]
  },
  {
   "cell_type": "code",
   "execution_count": 14,
   "id": "059745f6",
   "metadata": {},
   "outputs": [],
   "source": [
    "# Extra: Dataclasses\n",
    "from dataclasses import dataclass"
   ]
  },
  {
   "cell_type": "code",
   "execution_count": 15,
   "id": "4f6d1b73",
   "metadata": {},
   "outputs": [],
   "source": [
    "# Extra: collections.abc, Konzept Mixins\n",
    "#   - https://docs.python.org/3/library/collections.abc.html\n",
    "from collections.abc import Sequence\n",
    "\n",
    "class OurList(Sequence):\n",
    "    def __init__(self):\n",
    "        self.state = []\n",
    "        \n",
    "    def append(self, x):\n",
    "        self.state.append(f\"Our list: {x}\")\n",
    "        return self\n",
    "        \n",
    "    def __getitem__(self, index):\n",
    "        return self.state[index]\n",
    "    \n",
    "    def __len__(self):\n",
    "        return len(self.state)"
   ]
  },
  {
   "cell_type": "code",
   "execution_count": 54,
   "id": "8f5ee05d",
   "metadata": {},
   "outputs": [
    {
     "ename": "AttributeError",
     "evalue": "type object 'A' has no attribute 'funktion'",
     "output_type": "error",
     "traceback": [
      "\u001b[0;31m---------------------------------------------------------------------------\u001b[0m",
      "\u001b[0;31mAttributeError\u001b[0m                            Traceback (most recent call last)",
      "\u001b[0;32m/tmp/ipykernel_75/936493011.py\u001b[0m in \u001b[0;36m<module>\u001b[0;34m\u001b[0m\n\u001b[1;32m     18\u001b[0m             \u001b[0mprint\u001b[0m\u001b[0;34m(\u001b[0m\u001b[0mfunktionsname\u001b[0m\u001b[0;34m)\u001b[0m\u001b[0;34m\u001b[0m\u001b[0;34m\u001b[0m\u001b[0m\n\u001b[1;32m     19\u001b[0m \u001b[0;34m\u001b[0m\u001b[0m\n\u001b[0;32m---> 20\u001b[0;31m \u001b[0mA\u001b[0m\u001b[0;34m.\u001b[0m\u001b[0mfunktion\u001b[0m\u001b[0;34m\u001b[0m\u001b[0;34m\u001b[0m\u001b[0m\n\u001b[0m",
      "\u001b[0;31mAttributeError\u001b[0m: type object 'A' has no attribute 'funktion'"
     ]
    }
   ],
   "source": [
    "# Extra: `__getattr__` (oder `__getattribute__`)\n",
    "# __getattr__ nur wenn attribut nicht da ist\n",
    "# __getattribute__ guckt vor method lookup\n",
    "# Example: just log everything\n",
    "\n",
    "class A:\n",
    "    def __init__(self):\n",
    "        self.x = 4\n",
    "        self.y = 3\n",
    "    \n",
    "    def add(self, x):\n",
    "        return self.x + x\n",
    "    \n",
    "    def __getattr__(self, funktionsname, argumente):\n",
    "        if funktionsname.startswith(\"lol\"):\n",
    "            print(\"lol\")\n",
    "            retur\n",
    "        else:\n",
    "            print(funktionsname)\n",
    "    \n",
    "A.funktion"
   ]
  },
  {
   "cell_type": "code",
   "execution_count": 17,
   "id": "452fd515",
   "metadata": {},
   "outputs": [],
   "source": [
    "# Was es noch cooles gibt\n",
    "# - Dynamisch erstellende Klassen!\n",
    "# - Programmiersprachen in Python!\n",
    "#   - Hy!\n",
    "# - Libraries für ALLES\n",
    "# - Wie einfach alles ist!\n",
    "# Gute Ressource: Python"
   ]
  }
 ],
 "metadata": {
  "kernelspec": {
   "display_name": "Python 3 (ipykernel)",
   "language": "python",
   "name": "python3"
  },
  "language_info": {
   "codemirror_mode": {
    "name": "ipython",
    "version": 3
   },
   "file_extension": ".py",
   "mimetype": "text/x-python",
   "name": "python",
   "nbconvert_exporter": "python",
   "pygments_lexer": "ipython3",
   "version": "3.9.7"
  }
 },
 "nbformat": 4,
 "nbformat_minor": 5
}
