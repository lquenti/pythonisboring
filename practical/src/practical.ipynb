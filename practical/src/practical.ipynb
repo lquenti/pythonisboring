{
 "cells": [
  {
   "cell_type": "markdown",
   "id": "68fe6dd9-6fae-464d-afb9-b1a0e4348d6b",
   "metadata": {},
   "source": [
    "# Einführung in Python, coole Features"
   ]
  },
  {
   "cell_type": "code",
   "execution_count": null,
   "id": "55e9eec6-9409-4365-8f03-64f78b0be09c",
   "metadata": {},
   "outputs": [],
   "source": [
    "# help, print"
   ]
  },
  {
   "cell_type": "code",
   "execution_count": null,
   "id": "e3945622-8531-462d-bef7-98a86e226495",
   "metadata": {},
   "outputs": [],
   "source": [
    "# imports"
   ]
  },
  {
   "cell_type": "code",
   "execution_count": null,
   "id": "eb7c5bb1-042f-47a1-bdc4-2fc7cfacabac",
   "metadata": {},
   "outputs": [],
   "source": [
    "# variablen\n",
    "\n",
    "# tuple\n",
    "\n",
    "# listen, slicing\n",
    "\n",
    "# dicts\n",
    "# - Keine Ordnung"
   ]
  },
  {
   "cell_type": "code",
   "execution_count": 2,
   "id": "988944cd-f9d2-46e1-9c76-e9b3e6d112f6",
   "metadata": {},
   "outputs": [],
   "source": [
    "# Strings, Interpolation"
   ]
  },
  {
   "cell_type": "code",
   "execution_count": null,
   "id": "1e0e906e-1a3e-42b4-9897-5d0a3999a721",
   "metadata": {},
   "outputs": [],
   "source": [
    "# If Else\n",
    "# Kein Switch"
   ]
  },
  {
   "cell_type": "code",
   "execution_count": null,
   "id": "e73f151f-e186-4bbc-9f44-561622baf1de",
   "metadata": {},
   "outputs": [],
   "source": [
    "# Schleifen, range\n",
    "# - Keine C-Style, for-each\n",
    "# while, break, continue"
   ]
  },
  {
   "cell_type": "code",
   "execution_count": null,
   "id": "73355ad3-6bdb-4b51-88d9-cd7aa85f285a",
   "metadata": {},
   "outputs": [],
   "source": [
    "# Funktionen\n",
    "# - optionale Argumente"
   ]
  },
  {
   "cell_type": "code",
   "execution_count": null,
   "id": "7aa63e6b-51ad-4db4-97f0-53baead169ef",
   "metadata": {},
   "outputs": [],
   "source": [
    "# List expressions\n",
    "# dict expressions\n"
   ]
  },
  {
   "cell_type": "code",
   "execution_count": null,
   "id": "9f7a8163-8578-4e72-9c77-b72ce19853f3",
   "metadata": {},
   "outputs": [],
   "source": [
    "# itertools"
   ]
  },
  {
   "cell_type": "code",
   "execution_count": null,
   "id": "13cd1d4e-770d-4218-8be3-ea5ff8402aa2",
   "metadata": {},
   "outputs": [],
   "source": [
    "# functools, FP\n",
    "# - higher order functions\n",
    "# - decorators (functools.wraps)\n",
    "# - generator expressions"
   ]
  },
  {
   "cell_type": "code",
   "execution_count": null,
   "id": "451caa68-5a7d-44cf-a974-7a56fcc8b86a",
   "metadata": {},
   "outputs": [],
   "source": [
    "# OOP\n",
    "# (TODO: Port von Java)\n",
    "# - self explizit\n",
    "# - Keine {privaten variablen, interfaces}\n",
    "# - staticmethod, classmethod\n",
    "# - magic methods, libs sind first class\n",
    "#   - Addition, radd(self, other)\n",
    "#   - in-operator: __contains__(self, item)\n",
    "#   - Eigener Listenzugriff\n",
    "#   - Funktionen mit State\n",
    "# - method chaining"
   ]
  },
  {
   "cell_type": "code",
   "execution_count": null,
   "id": "b148bd1d-ec12-430d-9e9f-25da71500f64",
   "metadata": {},
   "outputs": [],
   "source": [
    "# Typen"
   ]
  },
  {
   "cell_type": "code",
   "execution_count": null,
   "id": "132c74dd-a3ba-4932-81cd-3018b70757f4",
   "metadata": {},
   "outputs": [],
   "source": [
    "# Extra: Wie Python für schnelle Iterationen sorgt"
   ]
  },
  {
   "cell_type": "code",
   "execution_count": null,
   "id": "2f3aeb34-9a23-424a-8873-ecc04f6b9b0f",
   "metadata": {},
   "outputs": [],
   "source": [
    "# Extra: Dataclasses"
   ]
  },
  {
   "cell_type": "code",
   "execution_count": null,
   "id": "df4625f0-e1a9-4721-bb31-087746e21032",
   "metadata": {},
   "outputs": [],
   "source": [
    "# Extra: collections.abc, Konzept Mixins\n",
    "#   - https://docs.python.org/3/library/collections.abc.html"
   ]
  },
  {
   "cell_type": "code",
   "execution_count": null,
   "id": "979493b8-dbd4-4821-b981-d2d259e06d4b",
   "metadata": {},
   "outputs": [],
   "source": [
    "# Extra: `__getattr__` (oder `__getattribute__`)"
   ]
  },
  {
   "cell_type": "code",
   "execution_count": null,
   "id": "c4e73214-4922-445d-85ce-729a8bde5da6",
   "metadata": {},
   "outputs": [],
   "source": [
    "# Was es noch cooles gibt\n",
    "# - Dynamisch erstellende Klassen!\n",
    "# - Programmiersprachen in Python!\n",
    "#   - Hy!\n",
    "# - Libraries für ALLES\n",
    "# - Wie einfach alles ist!\n",
    "# Gute Ressource: Python"
   ]
  }
 ],
 "metadata": {
  "kernelspec": {
   "display_name": "Python 3 (ipykernel)",
   "language": "python",
   "name": "python3"
  },
  "language_info": {
   "codemirror_mode": {
    "name": "ipython",
    "version": 3
   },
   "file_extension": ".py",
   "mimetype": "text/x-python",
   "name": "python",
   "nbconvert_exporter": "python",
   "pygments_lexer": "ipython3",
   "version": "3.8.10"
  }
 },
 "nbformat": 4,
 "nbformat_minor": 5
}
